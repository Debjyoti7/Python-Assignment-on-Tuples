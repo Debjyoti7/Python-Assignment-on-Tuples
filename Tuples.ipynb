{
 "cells": [
  {
   "cell_type": "markdown",
   "id": "101c62f4-b35c-4e14-94ef-07a811ccf592",
   "metadata": {},
   "source": [
    "# Q1. What is a tuple in Python?"
   ]
  },
  {
   "cell_type": "markdown",
   "id": "20cf8e29-3fa1-4c53-aab5-a2b5bdcadb98",
   "metadata": {},
   "source": [
    "## In Python, a tuple is an ordered collection of elements, similar to a list. However, unlike lists, tuples are immutable, which means their elements cannot be modified once the tuple is created. Tuples are typically used to store related pieces of information together. Tuples are defined by enclosing comma-separated values or items inside parentheses (). "
   ]
  },
  {
   "cell_type": "markdown",
   "id": "6f0c1df7-52e1-4a00-a3ac-9290a41db029",
   "metadata": {},
   "source": [
    "# Q2. How do you create a tuple in Python?"
   ]
  },
  {
   "cell_type": "markdown",
   "id": "67cacf37-2f80-4f7a-9f7c-9a711f76bb5f",
   "metadata": {},
   "source": [
    "## In Python, you can create a tuple by enclosing comma-separated values or items inside parentheses () or by simply separating the values with commas. Here are two different ways to create a tuple:"
   ]
  },
  {
   "cell_type": "markdown",
   "id": "783f4fcf-3ce8-4696-8823-5a79ea8b0312",
   "metadata": {},
   "source": [
    "## 1. Using Parentheses (): We can define a tuple by enclosing a comma-separated sequence of values inside parentheses. For example:"
   ]
  },
  {
   "cell_type": "code",
   "execution_count": 1,
   "id": "8ab84626-1ad7-456f-b137-0b9175eadbd9",
   "metadata": {},
   "outputs": [
    {
     "name": "stdout",
     "output_type": "stream",
     "text": [
      "(1, 2, 3, 4, 5)\n"
     ]
    }
   ],
   "source": [
    "my_tuple = (1, 2, 3, 4, 5)\n",
    "print(my_tuple)"
   ]
  },
  {
   "cell_type": "markdown",
   "id": "fc94e4d6-59ec-4eac-b35d-e9044a22aec4",
   "metadata": {},
   "source": [
    "## 2. Without Parentheses: We can also create a tuple by simply separating the values with commas, without using parentheses. The parentheses are optional unless they are needed for disambiguation. For example:"
   ]
  },
  {
   "cell_type": "code",
   "execution_count": 2,
   "id": "68eaf1c4-8062-4f2c-97eb-244b51610786",
   "metadata": {},
   "outputs": [
    {
     "name": "stdout",
     "output_type": "stream",
     "text": [
      "(1, 2, 3, 4, 5)\n"
     ]
    }
   ],
   "source": [
    "my_new_tuple = 1, 2, 3, 4, 5\n",
    "print(my_new_tuple)"
   ]
  },
  {
   "cell_type": "markdown",
   "id": "97e77f33-c7f5-4204-8b70-06e82c2fc61f",
   "metadata": {},
   "source": [
    "# Q3. What is the difference between a tuple and a list in Python?"
   ]
  },
  {
   "cell_type": "markdown",
   "id": "3c072e87-5843-48b5-9e5e-ded2cda84c8a",
   "metadata": {},
   "source": [
    "##  In Python, tuples and lists are both used to store collections of elements, but they have some key differences. Here are the main differences between tuples and lists: 1. Mutability: Tuples are immutable, while lists are mutable. Once a tuple is created, you cannot modify its elements. In contrast, lists allow modification, such as adding, removing, or modifying elements.\n",
    "## 2. Syntax: Tuples are defined by enclosing comma-separated values inside parentheses (), while lists are defined by enclosing comma-separated values inside square brackets [].\n",
    "## 3. Usage: Tuples are typically used to store related pieces of data together as a single entity. They are often used for grouping multiple values that should not be changed, such as coordinates, configuration settings, or database records. Lists, on the other hand, are more versatile and commonly used when you need a collection that can be modified dynamically.\n",
    "## 4. Performance: Tuples are generally more memory-efficient and faster to process compared to lists. Since tuples are immutable, Python can optimize memory allocation for tuples, which can result in better performance for certain operations. Lists, being mutable, require more memory allocation and management."
   ]
  },
  {
   "cell_type": "markdown",
   "id": "3d738aab-8da1-4e8b-a136-59610fe3f2df",
   "metadata": {},
   "source": [
    "# Q4. Can a tuple be changed in Python?"
   ]
  },
  {
   "cell_type": "markdown",
   "id": "e21facca-c61b-4e2d-a08a-9f545bea4199",
   "metadata": {},
   "source": [
    "## No, a tuple cannot be changed in Python. Tuples are immutable, which means that once a tuple is created, we cannot modify its elements or its size. The immutability of tuples is one of the key characteristics that distinguishes them from lists."
   ]
  },
  {
   "cell_type": "markdown",
   "id": "befa55e2-a272-4126-83a2-c70eb52e646c",
   "metadata": {},
   "source": [
    "# Q5. How do you access elements in a tuple?"
   ]
  },
  {
   "cell_type": "markdown",
   "id": "1e196325-97e4-418c-98b4-ba2110b23413",
   "metadata": {},
   "source": [
    "## In Python, we can access elements in a tuple using indexing and slicing. Tuples are ordered collections, and each element in a tuple has a specific index position. Here's how we can access elements in a tuple:\n",
    "## 1. Indexing: We can access an individual element in a tuple by specifying its index within square brackets []. The indexing starts at 0 for the first element and goes up to len(tuple) - 1 for the last element. For example:"
   ]
  },
  {
   "cell_type": "code",
   "execution_count": 3,
   "id": "a3fff0b2-aaac-4279-9e44-3dd19b4c848b",
   "metadata": {},
   "outputs": [
    {
     "name": "stdout",
     "output_type": "stream",
     "text": [
      "3\n"
     ]
    }
   ],
   "source": [
    "tuple1= (1,2,3,4,5)\n",
    "print(tuple1[2])"
   ]
  },
  {
   "cell_type": "markdown",
   "id": "58e76897-95a1-49fa-90d7-cd118b139c13",
   "metadata": {},
   "source": [
    "## 2. Negative Indexing: We can also use negative indexing to access elements from the end of the tuple. -1 refers to the last element, -2 refers to the second-to-last element, and so on. For example:"
   ]
  },
  {
   "cell_type": "code",
   "execution_count": 4,
   "id": "bc093612-a192-476a-ad3c-142ca3ead832",
   "metadata": {},
   "outputs": [
    {
     "name": "stdout",
     "output_type": "stream",
     "text": [
      "5\n"
     ]
    }
   ],
   "source": [
    "print(tuple1[-1])"
   ]
  },
  {
   "cell_type": "markdown",
   "id": "1790f774-48ed-4b7e-a736-a1b81abc6bff",
   "metadata": {},
   "source": [
    "## 3. Slicing: We can retrieve a range of elements from a tuple using slicing. Slicing allows you to specify a start index, an end index (exclusive), and an optional step size. The syntax for slicing is start:end:step. For example:"
   ]
  },
  {
   "cell_type": "code",
   "execution_count": 5,
   "id": "3ec56dbf-5e96-47bb-a31e-73c37581fe0c",
   "metadata": {},
   "outputs": [
    {
     "name": "stdout",
     "output_type": "stream",
     "text": [
      "(2, 3, 4)\n"
     ]
    }
   ],
   "source": [
    "print(tuple1[1:4])"
   ]
  },
  {
   "cell_type": "markdown",
   "id": "40d24d5a-1d06-4882-b404-0378a48a4f2e",
   "metadata": {},
   "source": [
    "# Q6. How do you unpack a tuple in Python?"
   ]
  },
  {
   "cell_type": "markdown",
   "id": "9a3b5b17-5b78-4ff7-b30a-ae253d11d780",
   "metadata": {},
   "source": [
    "## In Python, we can unpack a tuple by assigning its individual elements to separate variables. Unpacking allows us to conveniently assign values from a tuple to multiple variables in a single line of code. Here's how we can unpack a tuple:"
   ]
  },
  {
   "cell_type": "code",
   "execution_count": 6,
   "id": "447931f4-0001-41af-af84-f149620c12f0",
   "metadata": {},
   "outputs": [],
   "source": [
    "my_tuple = (1, 2, 3)\n",
    "a, b, c = my_tuple\n"
   ]
  },
  {
   "cell_type": "markdown",
   "id": "3c51bf80-7d03-43a2-a8d5-b4724ca77ff8",
   "metadata": {},
   "source": [
    "## In this example, the variables a, b, and c are assigned the values from the tuple my_tuple. The first element of the tuple is assigned to a, the second element to b, and the third element to c. After unpacking, we can use these variables independently. Unpacking works with tuples of any length. The number of variables on the left side of the assignment operator (=) should match the number of elements in the tuple. Otherwise,we will get a ValueError indicating the number of variables and elements mismatch."
   ]
  },
  {
   "cell_type": "code",
   "execution_count": 7,
   "id": "fe392fd0-b5a1-45ad-88c4-d55d0ec3f5ad",
   "metadata": {},
   "outputs": [
    {
     "data": {
      "text/plain": [
       "1"
      ]
     },
     "execution_count": 7,
     "metadata": {},
     "output_type": "execute_result"
    }
   ],
   "source": [
    "a"
   ]
  },
  {
   "cell_type": "code",
   "execution_count": 8,
   "id": "b252f1cd-add6-485f-a16f-4f8644a4bc8b",
   "metadata": {},
   "outputs": [
    {
     "data": {
      "text/plain": [
       "2"
      ]
     },
     "execution_count": 8,
     "metadata": {},
     "output_type": "execute_result"
    }
   ],
   "source": [
    "b"
   ]
  },
  {
   "cell_type": "code",
   "execution_count": 9,
   "id": "5407dd63-ccd3-4925-8881-5408b4ed5693",
   "metadata": {},
   "outputs": [
    {
     "data": {
      "text/plain": [
       "3"
      ]
     },
     "execution_count": 9,
     "metadata": {},
     "output_type": "execute_result"
    }
   ],
   "source": [
    "c"
   ]
  },
  {
   "cell_type": "code",
   "execution_count": null,
   "id": "fdae5ea0-c889-43f0-8bee-5663c741f9b7",
   "metadata": {},
   "outputs": [],
   "source": []
  }
 ],
 "metadata": {
  "kernelspec": {
   "display_name": "Python 3 (ipykernel)",
   "language": "python",
   "name": "python3"
  },
  "language_info": {
   "codemirror_mode": {
    "name": "ipython",
    "version": 3
   },
   "file_extension": ".py",
   "mimetype": "text/x-python",
   "name": "python",
   "nbconvert_exporter": "python",
   "pygments_lexer": "ipython3",
   "version": "3.10.8"
  }
 },
 "nbformat": 4,
 "nbformat_minor": 5
}
